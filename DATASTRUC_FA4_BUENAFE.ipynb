{
 "cells": [
  {
   "cell_type": "markdown",
   "id": "7b6f7c2e",
   "metadata": {},
   "source": [
    "# FA4 BUENAFE"
   ]
  },
  {
   "cell_type": "markdown",
   "id": "78543a0e",
   "metadata": {},
   "source": [
    "### P-4.23: Implement a recursive function with signature find(path, filename) that reports all entries of the file system rooted at the given path having the given file name."
   ]
  },
  {
   "cell_type": "code",
   "execution_count": 3,
   "id": "58b22a0f",
   "metadata": {},
   "outputs": [],
   "source": [
    "import os"
   ]
  },
  {
   "cell_type": "code",
   "execution_count": 13,
   "id": "81641c31",
   "metadata": {},
   "outputs": [
    {
     "name": "stdout",
     "output_type": "stream",
     "text": [
      "From which path do you want to find a file?/Users/periperipapi/Documents\n",
      "Please type the file name: la.png\n",
      "/Users/periperipapi/Documents/FILMSOC/TAMHUNT2024/la.png\n"
     ]
    }
   ],
   "source": [
    "def file_finder(path, filename):\n",
    "    found=[]\n",
    "    \n",
    "    for root, dirs,files in os.walk(path):\n",
    "        for file in files:\n",
    "            if file==filename:\n",
    "                found.append(os.path.join(root, file))\n",
    "                \n",
    "    return found\n",
    "            \n",
    "    \n",
    "    \n",
    "    \n",
    "path=str(input('From which path do you want to find a file?'))\n",
    "filename=str(input('Please type the file name: '))\n",
    "\n",
    "search=file_finder(path, filename)\n",
    "\n",
    "if search:\n",
    "    for paths in search:\n",
    "        print(paths)\n",
    "        \n",
    "else:\n",
    "    print(f'{filename} is not in {path}')"
   ]
  },
  {
   "cell_type": "markdown",
   "id": "94e78a43",
   "metadata": {},
   "source": [
    "### P-4.27: Python’s os module provides a function with signature walk(path) that is a generator yielding the tuple (dirpath, dirnames, filenames) for each subdirectory of the directory identified by string path, such that string dirpath is the full path to the subdirectory, dirnames is a list of the names of the subdirectories within dirpath, and filenames is a list of the names of non-directory entries of dirpath."
   ]
  },
  {
   "cell_type": "code",
   "execution_count": 24,
   "id": "55b548f8",
   "metadata": {},
   "outputs": [
    {
     "name": "stdout",
     "output_type": "stream",
     "text": [
      "From which path do you want to find a file?/Users/periperipapi/Documents/FILMSOC\n",
      "/Users/periperipapi/Documents/FILMSOC Directory: \n",
      "\n",
      "Sub-folders: ['BTS', 'TEASER', 'TAMHUNT2024', 'RAW', 'SUBMISSION']\n",
      "\n",
      "files in ['BTS', 'TEASER', 'TAMHUNT2024', 'RAW', 'SUBMISSION']: ['Sequence 02.mp4', 'diodencover-16.png', 'bg-17.png', 'CROWA.png', 'prod photo-01.png', 'disc.png', 'Sequence 01.mp4', 'poster-b.png', '_MG_6808.psd', 'FINAL-19.png', '.DS_Store', 'Sample-1.ai', 'dioden-16.png', 'diodenmp4.mp4', 'Sample-1-05.png', 'Sample-1-11.png', 'Sample-1-10.png', 'Sample-1-04.png', 'SINEPIYU_TEASER(FINAL).mp4', 'POSTER.png', 'Sample-1-12.png', 'Sample-1-06.png', 'Sample-1-07.png', 'diodenwhite-16.png', 'SA1_ARAQUE_BRUSELES_BUDOMO_BUENAFE.mp4', 'letter-17.png', 'Layer 41.png', 'Artboard 2.png', 'Artboard 3.png', 'cover.psd', 'FINALCOVER.png', 'Artboard 1.png', 'Artboard 4.png', 'dp.png', 'cover.png', 'Artboard 7.png', 'Sample-1-09.png', 'Sample-1-08.png', 'FPOSTER.png', 'SINEPIYU_TEASER.mp4', 'FINAL-17.png', '_MG_6786.psd', 'FINALDP-19.png', 'diodencover-16.mp4', 'cd.png', ' .png', 'POSTERB.png', 'SINEPIYU.png', 'prodphotosample.png', 'ekonarcpost.png']\n",
      "\n",
      "/Users/periperipapi/Documents/FILMSOC/BTS Directory: \n",
      "\n",
      "Sub-folders: []\n",
      "\n",
      "files in []: ['_MG_6757.png', '_MG_6811.png']\n",
      "\n",
      "/Users/periperipapi/Documents/FILMSOC/TEASER Directory: \n",
      "\n",
      "Sub-folders: []\n",
      "\n",
      "files in []: ['C0026M01.XML', 'C0011.MP4', 'C0005.MP4', 'C0034M01.XML', 'C0004.MP4', 'C0002M01.XML', 'C0010.MP4', 'C0010M01.XML', 'C0006.MP4', 'C0012.MP4', 'C0013.MP4', 'C0007.MP4', 'C0003.MP4', 'C0017.MP4', 'C0016.MP4', 'C0002.MP4', 'C0028M01.XML', 'C0024M01.XML', 'C0028.MP4', 'C0014.MP4', 'C0012M01.XML', 'C0001.MP4', 'C0015.MP4', 'C0029.MP4', 'C0004M01.XML', 'C0016M01.XML', 'C0008M01.XML', 'C0020M01.XML', 'C0032M01.XML', 'C0014M01.XML', 'C0018M01.XML', 'C0006M01.XML', 'C0030M01.XML', 'C0022M01.XML', 'C0003M01.XML', 'C0011M01.XML', 'C0027M01.XML', 'C0013M01.XML', 'C0001M01.XML', 'C0029M01.XML', 'C0025M01.XML', 'C0021M01.XML', 'C0030.MP4', 'C0024.MP4', 'C0018.MP4', 'C0033M01.XML', 'C0019.MP4', 'C0005M01.XML', 'C0025.MP4', 'C0031.MP4', 'C0009M01.XML', 'C0017M01.XML', 'C0027.MP4', 'C0033.MP4', 'C0032.MP4', 'C0026.MP4', 'C0022.MP4', 'C0023.MP4', 'C0031M01.XML', 'C0023M01.XML', 'C0009.MP4', 'C0021.MP4', 'C0015M01.XML', 'C0020.MP4', 'C0034.MP4', 'C0008.MP4', 'C0007M01.XML', 'C0019M01.XML']\n",
      "\n",
      "/Users/periperipapi/Documents/FILMSOC/TAMHUNT2024 Directory: \n",
      "\n",
      "Sub-folders: []\n",
      "\n",
      "files in []: ['NEWGEN-2-final.png', 'la.png', '.DS_Store', 'NEWGEN-2-final-2.png', 'NEWGEN-2-FINAL-3.png', 'NEWGEN-final.psd', 'NEWGEN-2.png', 'NEWGEN-1-V2-FINAL.png', 'NEWGEN-1.png', 'NEWGEN-2-layout.psd', 'RAINBOW-03.png', 'NEWGEN-2-layout.png', 'NEWGEN.ai', 'NEWGEN-1.psd', 'BG-03.svg', 'NEWGEN-2.psd', 'Layer 3.png', 'Artboard 2.png', 'NEWGEN-1-v2.png', 'kool glitch.png', 'Artboard 1.png', 'UFO.png', 'NEWGEN-NOTEXTURE.png', 'LIST-02.svg', 'LIST-02.png', 'Rectangle 1 copy.png', 'NEWGEN-1-FINAL.png', 'Texturelabs_Paper_347XL.png', 'NEWGEN-DRAFT.png', 'NEWGEN-2-draft.png']\n",
      "\n",
      "/Users/periperipapi/Documents/FILMSOC/RAW Directory: \n",
      "\n",
      "Sub-folders: []\n",
      "\n",
      "files in []: ['MVI_9124.MP4', 'MVI_9130.MP4', 'MVI_9118.MP4', 'MVI_8945.MP4', 'MVI_8951.MP4', 'MVI_8979.MP4', 'MVI_8986.MP4', 'MVI_8992.MP4', 'MVI_8776.MP4', 'MVI_8831.MP4', 'MVI_8819.MP4', 'MVI_9093.MP4', 'MVI_9087.MP4', 'MVI_9078.MP4', 'MVI_9079.MP4', 'MVI_9086.MP4', 'MVI_9092.MP4', 'MVI_8818.MP4', 'MVI_8830.MP4', 'MVI_8777.MP4', 'MVI_8987.MP4', 'MVI_8978.MP4', 'MVI_8788.MP4', 'MVI_8950.MP4', 'MVI_8944.MP4', 'MVI_9119.MP4', 'MVI_9131.MP4', 'MVI_9125.MP4', 'MVI_9133.MP4', 'MVI_9127.MP4', 'MVI_8952.MP4', 'MVI_8946.MP4', 'MVI_8991.MP4', 'MVI_8985.MP4', 'MVI_8775.MP4', 'MVI_8826.MP4', 'MVI_8832.MP4', 'MVI_9084.MP4', 'MVI_9090.MP4', 'MVI_9091.MP4', 'MVI_9085.MP4', 'MVI_8833.MP4', 'MVI_8827.MP4', 'MVI_8774.MP4', 'MVI_8984.MP4', 'MVI_8947.MP4', 'MVI_8953.MP4', 'MVI_9126.MP4', 'MVI_9132.MP4', 'MVI_9122.MP4', 'MVI_8957.MP4', 'MVI_8943.MP4', 'MVI_8980.MP4', 'MVI_8837.MP4', 'MVI_9081.MP4', 'MVI_9095.MP4', 'MVI_9094.MP4', 'MVI_9080.MP4', 'MVI_8836.MP4', 'MVI_8822.MP4', 'MVI_8981.MP4', 'MVI_8942.MP4', 'MVI_8956.MP4', 'MVI_9123.MP4', 'MVI_9121.MP4', 'MVI_8968.MP4', 'MVI_8940.MP4', 'MVI_8798.MP4', 'MVI_8954.MP4', 'MVI_8773.MP4', 'MVI_8983.MP4', 'MVI_8808.MP4', 'MVI_8834.MP4', 'MVI_8820.MP4', 'MVI_9096.MP4', 'MVI_9082.MP4', 'MVI_9069.MP4', 'MVI_9068.MP4', 'MVI_9083.MP4', 'MVI_9097.MP4', 'MVI_8821.MP4', 'MVI_8835.MP4', 'MVI_8809.MP4', 'MVI_8982.MP4', 'MVI_8955.MP4', 'MVI_8799.MP4', 'MVI_8941.MP4', 'MVI_8969.MP4', 'MVI_9134.MP4', 'MVI_9120.MP4', 'MVI_9108.MP4', 'MVI_8926.MP4', 'MVI_8932.MP4', 'MVI_8852.MP4', 'MVI_8846.MP4', 'MVI_8891.MP4', 'MVI_8885.MP4', 'MVI_8884.MP4', 'MVI_8890.MP4', 'MVI_8853.MP4', 'MVI_8933.MP4', 'MVI_8927.MP4', 'MVI_8931.MP4', 'MVI_8925.MP4', 'MVI_8919.MP4', 'MVI_8845.MP4', 'MVI_8851.MP4', 'MVI_8879.MP4', 'MVI_8886.MP4', 'MVI_8892.MP4', 'MVI_8893.MP4', 'MVI_8887.MP4', 'MVI_8850.MP4', 'MVI_8844.MP4', 'MVI_8918.MP4', 'MVI_8924.MP4', 'MVI_8930.MP4', 'MVI_8908.MP4', 'MVI_8934.MP4', 'MVI_8920.MP4', 'MVI_8868.MP4', 'MVI_8840.MP4', 'MVI_8854.MP4', 'MVI_8883.MP4', 'MVI_8897.MP4', 'MVI_8896.MP4', 'MVI_8882.MP4', 'MVI_8855.MP4', 'MVI_8841.MP4', 'MVI_8869.MP4', 'MVI_8921.MP4', 'MVI_8935.MP4', 'MVI_8923.MP4', 'MVI_8937.MP4', 'MVI_8857.MP4', 'MVI_8843.MP4', 'MVI_8894.MP4', 'MVI_8880.MP4', 'MVI_8881.MP4', 'MVI_8895.MP4', 'MVI_8842.MP4', 'MVI_8856.MP4', 'MVI_8936.MP4', 'MVI_8922.MP4', 'MVI_8907.MP4', 'MVI_8873.MP4', 'MVI_8867.MP4', 'MVI_8898.MP4', 'MVI_8899.MP4', 'MVI_8866.MP4', 'MVI_8872.MP4', 'MVI_8906.MP4', 'MVI_8904.MP4', 'MVI_8938.MP4', 'MVI_8864.MP4', 'MVI_8870.MP4', 'MVI_8858.MP4', 'MVI_9004.MP4', 'MVI_8859.MP4', 'MVI_8871.MP4', 'MVI_8865.MP4', 'MVI_8939.MP4', 'MVI_8905.MP4', 'MVI_8929.MP4', 'MVI_8915.MP4', 'MVI_8849.MP4', 'MVI_8861.MP4', 'MVI_9000.MP4', 'MVI_9001.MP4', 'MVI_8874.MP4', 'MVI_8860.MP4', 'MVI_8848.MP4', 'MVI_8928.MP4', 'MVI_8916.MP4', 'MVI_8862.MP4', 'MVI_8889.MP4', 'MVI_9003.MP4', 'MVI_9002.MP4', 'MVI_8888.MP4', 'MVI_8863.MP4', 'MVI_8917.MP4', 'MVI_8903.MP4', 'MVI_9105.MP4', 'MVI_9111.MP4', 'MVI_8964.MP4', 'MVI_8970.MP4', 'MVI_8958.MP4', 'MVI_8780.MP4', 'MVI_8794.MP4', 'MVI_8810.MP4', 'MVI_8804.MP4', 'MVI_8838.MP4', 'MVI_9071.MP4', 'MVI_9065.MP4', 'MVI_9059.MP4', 'MVI_9058.MP4', 'MVI_9064.MP4', 'MVI_9070.MP4', 'MVI_8839.MP4', 'MVI_8805.MP4', 'MVI_8811.MP4', 'MVI_8795.MP4', 'MVI_8781.MP4', 'MVI_8959.MP4', 'MVI_8971.MP4', 'MVI_8965.MP4', 'MVI_9104.MP4', 'MVI_9112.MP4', 'MVI_9106.MP4', 'MVI_8973.MP4', 'MVI_8967.MP4', 'MVI_8797.MP4', 'MVI_8783.MP4', 'MVI_8998.MP4', 'MVI_8807.MP4', 'MVI_8813.MP4', 'MVI_9099.MP4', 'MVI_9066.MP4', 'MVI_9072.MP4', 'MVI_9073.MP4', 'MVI_9067.MP4', 'MVI_9098.MP4', 'MVI_8812.MP4', 'MVI_8806.MP4', 'MVI_8999.MP4', 'MVI_8782.MP4', 'MVI_8796.MP4', 'MVI_8966.MP4', 'MVI_8972.MP4', 'MVI_9107.MP4', 'MVI_9113.MP4', 'MVI_9117.MP4', 'MVI_9103.MP4', 'MVI_8792.MP4', 'MVI_8786.MP4', 'MVI_8976.MP4', 'MVI_8962.MP4', 'MVI_8989.MP4', 'MVI_8779.MP4', 'MVI_8802.MP4', 'MVI_8816.MP4', 'MVI_9088.MP4', 'MVI_9063.MP4', 'MVI_9077.MP4', 'MVI_9076.MP4', 'MVI_9062.MP4', 'MVI_9089.MP4', 'MVI_8817.MP4', 'MVI_8803.MP4', 'MVI_8778.MP4', 'MVI_8988.MP4', 'MVI_8963.MP4', 'MVI_8977.MP4', 'MVI_8787.MP4', 'MVI_8793.MP4', 'MVI_9102.MP4', 'MVI_9116.MP4', 'MVI_9128.MP4', 'MVI_9100.MP4', 'MVI_9114.MP4', 'MVI_8785.MP4', 'MVI_8949.MP4', 'MVI_8791.MP4', 'MVI_8961.MP4', 'MVI_8975.MP4', 'MVI_8829.MP4', 'MVI_8815.MP4', 'MVI_8801.MP4', 'MVI_9074.MP4', 'MVI_9060.MP4', 'MVI_9061.MP4', 'MVI_9075.MP4', 'MVI_8800.MP4', 'MVI_8814.MP4', 'MVI_8828.MP4', 'MVI_8974.MP4', 'MVI_8960.MP4', 'MVI_8790.MP4', 'MVI_8948.MP4', 'MVI_8784.MP4', 'MVI_9115.MP4', 'MVI_9101.MP4', 'MVI_9129.MP4']\n",
      "\n",
      "/Users/periperipapi/Documents/FILMSOC/SUBMISSION Directory: \n",
      "\n",
      "Sub-folders: []\n",
      "\n",
      "files in []: ['Vector Smart Object.png', '287131941_1133760940816358_6121747472114045925_n.png', 'PRODPHOTO.png', 'IMG_9426.png', 'IMG_9432.png', 'IMG_9419.png', 'IMG_9455.png', 'Layer 2.png', 'Layer 3.png', 'prod photo.ai', 'prod photo.png', 'FILMPOSTER.png', 'prod photo.psd', 'IMG_9467.png', 'Fposter.png', 'IMG_9413.png']\n",
      "\n"
     ]
    }
   ],
   "source": [
    "def directory_finder(path):\n",
    "    subdirs=[]\n",
    "    files=[]\n",
    "    \n",
    "    with os.scandir(path) as target:\n",
    "        for entry in target:\n",
    "            if entry.is_dir():\n",
    "                subdirs.append(entry.name)\n",
    "            elif entry.is_file():\n",
    "                files.append(entry.name)\n",
    "                \n",
    "    yield (path, subdirs, files)\n",
    "    \n",
    "    for subdir in subdirs:\n",
    "        newpath= os.path.join(path,subdir)\n",
    "        yield from directory_finder(newpath)\n",
    "            \n",
    "    \n",
    "    \n",
    "    \n",
    "path=str(input('From which path do you want to find a file?'))\n",
    "\n",
    "find= directory_finder(path)\n",
    "\n",
    "if find:\n",
    "    for path,subdirs,files in find:\n",
    "\n",
    "            print(f'{path} Directory: \\n')\n",
    "            print(f'Sub-folders: {subdirs}\\n' )\n",
    "            print(f'files in {subdirs}: {files}\\n' )\n",
    "            \n",
    "        \n",
    "else:\n",
    "    print(f'{filename} is an invalid path')"
   ]
  },
  {
   "cell_type": "code",
   "execution_count": null,
   "id": "b7b119d2",
   "metadata": {},
   "outputs": [],
   "source": []
  },
  {
   "cell_type": "code",
   "execution_count": null,
   "id": "9c0b75b3",
   "metadata": {},
   "outputs": [],
   "source": []
  }
 ],
 "metadata": {
  "kernelspec": {
   "display_name": "Python 3 (ipykernel)",
   "language": "python",
   "name": "python3"
  },
  "language_info": {
   "codemirror_mode": {
    "name": "ipython",
    "version": 3
   },
   "file_extension": ".py",
   "mimetype": "text/x-python",
   "name": "python",
   "nbconvert_exporter": "python",
   "pygments_lexer": "ipython3",
   "version": "3.11.5"
  }
 },
 "nbformat": 4,
 "nbformat_minor": 5
}
