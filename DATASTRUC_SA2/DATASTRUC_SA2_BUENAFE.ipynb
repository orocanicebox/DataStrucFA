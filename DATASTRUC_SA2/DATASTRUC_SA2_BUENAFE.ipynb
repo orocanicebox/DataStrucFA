{
 "cells": [
  {
   "cell_type": "markdown",
   "id": "1641ffde",
   "metadata": {},
   "source": [
    "# SUMMATIVE ASSESSMENT 2: SORTING VISUALIZER\n"
   ]
  },
  {
   "cell_type": "markdown",
   "id": "3a959a80",
   "metadata": {},
   "source": [
    "## Karl Isaiah D. Buenafe\n"
   ]
  },
  {
   "cell_type": "markdown",
   "id": "38d3a105",
   "metadata": {},
   "source": [
    "The first step in executing this project is establish all the sortng methods we can use. In this project, we can use the following algorithms:\n",
    "\n",
    "    1. Merge Sort\n",
    "    2. Quick Sort\n",
    "    3. Selection Sort\n",
    "    4. Heap Sort"
   ]
  },
  {
   "cell_type": "code",
   "execution_count": 14,
   "id": "6db0af2c",
   "metadata": {},
   "outputs": [],
   "source": [
    "import tkinter as tk\n",
    "from tkinter import ttk\n",
    "import random\n",
    "import time\n",
    "import heapq\n",
    "import matplotlib.pyplot as plt\n",
    "from matplotlib.backends.backend_tkagg import FigureCanvasTkAgg"
   ]
  },
  {
   "cell_type": "markdown",
   "id": "b2317aa3",
   "metadata": {},
   "source": [
    "The following codes are just used to initialize the following algorithms. "
   ]
  },
  {
   "cell_type": "markdown",
   "id": "a37a9286",
   "metadata": {},
   "source": [
    "### MERGE SORT"
   ]
  },
  {
   "cell_type": "code",
   "execution_count": 3,
   "id": "23ad6eb5",
   "metadata": {},
   "outputs": [],
   "source": [
    "def merge_sort(arr):\n",
    "    if len(arr) > 1:\n",
    "        mid = len(arr) // 2\n",
    "        left = arr[:mid]\n",
    "        right = arr[mid:]\n",
    "\n",
    "        merge_sort(left)\n",
    "        merge_sort(right)\n",
    "\n",
    "        i = j = k = 0\n",
    "        while i < len(left) and j < len(right):\n",
    "            if left[i] < right[j]:\n",
    "                arr[k] = left[i]\n",
    "                i += 1\n",
    "            else:\n",
    "                arr[k] = right[j]\n",
    "                j += 1\n",
    "            k += 1\n",
    "\n",
    "        while i < len(left):\n",
    "            arr[k] = left[i]\n",
    "            i += 1\n",
    "            k += 1\n",
    "\n",
    "        while j < len(right):\n",
    "            arr[k] = right[j]\n",
    "            j += 1\n",
    "            k += 1"
   ]
  },
  {
   "cell_type": "markdown",
   "id": "dec150c6",
   "metadata": {},
   "source": [
    "### QUICK SORT"
   ]
  },
  {
   "cell_type": "code",
   "execution_count": 4,
   "id": "0e1a4843",
   "metadata": {},
   "outputs": [],
   "source": [
    "def quick_sort(arr):\n",
    "    if len(arr) <= 1:\n",
    "        return arr\n",
    "    pivot = arr[0]\n",
    "    less = [x for x in arr[1:] if x <= pivot]\n",
    "    greater = [x for x in arr[1:] if x > pivot]\n",
    "    return quick_sort(less) + [pivot] + quick_sort(greater)\n"
   ]
  },
  {
   "cell_type": "markdown",
   "id": "a88c5368",
   "metadata": {},
   "source": [
    "### SELECTION SORT"
   ]
  },
  {
   "cell_type": "code",
   "execution_count": 5,
   "id": "baeea6ba",
   "metadata": {},
   "outputs": [],
   "source": [
    "def selection_sort(arr):\n",
    "    n = len(arr)\n",
    "    for i in range(n - 1):\n",
    "        min_idx = i\n",
    "        for j in range(i + 1, n):\n",
    "            if arr[j] < arr[min_idx]:\n",
    "                min_idx = j\n",
    "        arr[i], arr[min_idx] = arr[min_idx], arr[i]"
   ]
  },
  {
   "cell_type": "markdown",
   "id": "2c8c6ba2",
   "metadata": {},
   "source": [
    "### HEAP SORT"
   ]
  },
  {
   "cell_type": "code",
   "execution_count": 7,
   "id": "d08d38fc",
   "metadata": {},
   "outputs": [],
   "source": [
    "def heap_standard(arr):\n",
    "    heap = []\n",
    "    for element in arr:\n",
    "        heapq.heappush(heap, element)\n",
    "\n",
    "    sorted_list = [heapq.heappop(heap) for _ in range(len(heap))]\n"
   ]
  },
  {
   "cell_type": "markdown",
   "id": "17664185",
   "metadata": {},
   "source": [
    " "
   ]
  },
  {
   "cell_type": "markdown",
   "id": "01dc97d3",
   "metadata": {},
   "source": [
    "After initializing all the sorting methods, we need to create an algorithm that executes the sorting method while recording the sorting time. Furthermore, we can also produce a graph that can visualize the sorting time of each method across different sizes."
   ]
  },
  {
   "cell_type": "markdown",
   "id": "edb20503",
   "metadata": {},
   "source": [
    "### RUN SORTING METHODS AND RECORD SORTING TIME"
   ]
  },
  {
   "cell_type": "code",
   "execution_count": 19,
   "id": "9fd915bf",
   "metadata": {},
   "outputs": [],
   "source": [
    "def sort_comparison(size_array):\n",
    "    results = []\n",
    "    for size in size_array:\n",
    "        arr = [random.randint(0, 100000) for _ in range(size)]\n",
    "\n",
    "        # Measure times for each sort\n",
    "        arr1 = arr[:]\n",
    "        start1 = time.time()\n",
    "        merge_sort(arr1)\n",
    "        sort_time1 = time.time() - start1\n",
    "\n",
    "        arr2 = arr[:]\n",
    "        start2 = time.time()\n",
    "        quick_sort(arr2)\n",
    "        sort_time2 = time.time() - start2\n",
    "\n",
    "        arr3 = arr[:]\n",
    "        start3 = time.time()\n",
    "        selection_sort(arr3)\n",
    "        sort_time3 = time.time() - start3\n",
    "\n",
    "        arr4 = arr[:]\n",
    "        start4 = time.time()\n",
    "        heap_standard(arr4)\n",
    "        sort_time4 = time.time() - start4\n",
    "\n",
    "        results.append((size, sort_time1, sort_time2, sort_time3, sort_time4))\n",
    "    return results"
   ]
  },
  {
   "cell_type": "markdown",
   "id": "7f7a615d",
   "metadata": {},
   "source": [
    "### CREATE PLOT FOR RESULTS AND UI DESIGN"
   ]
  },
  {
   "cell_type": "code",
   "execution_count": 20,
   "id": "69781ad7",
   "metadata": {},
   "outputs": [],
   "source": [
    "def display_results():\n",
    "    input_sizes = input_entry.get()\n",
    "    try:\n",
    "        size_list = [int(size.strip()) for size in input_sizes.strip(\"[]\").split(\",\")]\n",
    "    except ValueError:\n",
    "        messagebox.showerror(\"Invalid Input\", \"Please enter a valid list of integers (e.g., [100, 1000, 10000])\")\n",
    "        return\n",
    "\n",
    "    results = sort_comparison(size_list)\n",
    "\n",
    "    # Clear previous graph and table\n",
    "    for widget in graph_frame.winfo_children():\n",
    "        widget.destroy()\n",
    "    for widget in table_frame.winfo_children():\n",
    "        widget.destroy()\n",
    "\n",
    "    fig, ax = plt.subplots(figsize=(6, 4))\n",
    "    sizes = [row[0] for row in results]\n",
    "    merge_times = [row[1] for row in results]\n",
    "    quick_times = [row[2] for row in results]\n",
    "    selection_times = [row[3] for row in results]\n",
    "    heap_times = [row[4] for row in results]\n",
    "\n",
    "    ax.plot(sizes, merge_times, label=\"Merge Sort\", marker='o')\n",
    "    ax.plot(sizes, quick_times, label=\"Quick Sort\", marker='o')\n",
    "    ax.plot(sizes, selection_times, label=\"Selection Sort\", marker='o')\n",
    "    ax.plot(sizes, heap_times, label=\"Heap Sort\", marker='o')\n",
    "    ax.set_xlabel(\"Input Size\")\n",
    "    ax.set_ylabel(\"Time (seconds)\")\n",
    "    ax.set_title(\"Sorting Algorithm Time Comparison\")\n",
    "    ax.legend()\n",
    "\n",
    "    canvas = FigureCanvasTkAgg(fig, master=graph_frame)\n",
    "    canvas.draw()\n",
    "    canvas.get_tk_widget().pack()\n",
    "\n",
    "    # Create table\n",
    "    tree = ttk.Treeview(table_frame, columns=(\"Size\", \"Merge Sort\", \"Quick Sort\", \"Selection Sort\", \"Heap Sort\"), show=\"headings\")\n",
    "    tree.heading(\"Size\", text=\"Size\")\n",
    "    tree.heading(\"Merge Sort\", text=\"Merge Sort (s)\")\n",
    "    tree.heading(\"Quick Sort\", text=\"Quick Sort (s)\")\n",
    "    tree.heading(\"Selection Sort\", text=\"Selection Sort (s)\")\n",
    "    tree.heading(\"Heap Sort\", text=\"Heap Sort (s)\")\n",
    "\n",
    "    for row in results:\n",
    "        tree.insert(\"\", tk.END, values=(row[0], f\"{row[1]:.10f}\", f\"{row[2]:.10f}\", f\"{row[3]:.10f}\", f\"{row[4]:.10f}\"))\n",
    "\n",
    "    tree.pack(fill=\"both\", expand=True)\n"
   ]
  },
  {
   "cell_type": "markdown",
   "id": "b59a8a08",
   "metadata": {},
   "source": [
    "### RUN UI"
   ]
  },
  {
   "cell_type": "code",
   "execution_count": null,
   "id": "54492517",
   "metadata": {},
   "outputs": [],
   "source": [
    "root = tk.Tk()\n",
    "root.title(\"Sorting Algorithm Comparison\")\n",
    "\n",
    "# Input section\n",
    "input_frame = tk.Frame(root)\n",
    "input_frame.pack(pady=10)\n",
    "\n",
    "tk.Label(input_frame, text=\"Enter sizes (comma-separated):\").pack(side=tk.LEFT)\n",
    "input_entry = tk.Entry(input_frame)\n",
    "input_entry.pack(side=tk.LEFT, padx=5)\n",
    "tk.Button(input_frame, text=\"Run Comparison\", command=display_results).pack(side=tk.LEFT)\n",
    "\n",
    "# Graph and table sections\n",
    "graph_frame = tk.Frame(root)\n",
    "graph_frame.pack(pady=10)\n",
    "\n",
    "table_frame = tk.Frame(root)\n",
    "table_frame.pack(pady=10)\n",
    "\n",
    "root.mainloop()"
   ]
  }
 ],
 "metadata": {
  "kernelspec": {
   "display_name": "Python 3 (ipykernel)",
   "language": "python",
   "name": "python3"
  },
  "language_info": {
   "codemirror_mode": {
    "name": "ipython",
    "version": 3
   },
   "file_extension": ".py",
   "mimetype": "text/x-python",
   "name": "python",
   "nbconvert_exporter": "python",
   "pygments_lexer": "ipython3",
   "version": "3.11.5"
  }
 },
 "nbformat": 4,
 "nbformat_minor": 5
}
