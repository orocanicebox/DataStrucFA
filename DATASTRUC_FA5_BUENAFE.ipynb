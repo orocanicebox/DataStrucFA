{
 "cells": [
  {
   "cell_type": "markdown",
   "id": "cd7fa03d",
   "metadata": {},
   "source": [
    "# KARL ISAIAH BUENAFE"
   ]
  },
  {
   "cell_type": "markdown",
   "id": "b3186227",
   "metadata": {},
   "source": [
    "Write a Python function that takes two three-dimensional numeric data sets and adds them componentwise."
   ]
  },
  {
   "cell_type": "code",
   "execution_count": 1,
   "id": "aef53821",
   "metadata": {},
   "outputs": [],
   "source": [
    "import numpy as np"
   ]
  },
  {
   "cell_type": "code",
   "execution_count": 41,
   "id": "8cdc95e5",
   "metadata": {},
   "outputs": [
    {
     "name": "stdout",
     "output_type": "stream",
     "text": [
      "Data Set Addition\n",
      "Please give a 3D Data Set (Use this format:[[[a1,a2,...,ax],[b1,b2,...,bx]],[[c1,c2,...,cx],[d1,d2,...,dx]]])\n",
      "[[[1,2,3],[4,5,6]],[[7,8,9],[10,11,12]]]\n",
      "\n",
      "\n",
      "Please give a 3D Data Set (Use this format:[[[a1,a2,...,ax],[b1,b2,...,bx]],[[c1,c2,...,cx],[d1,d2,...,dx]]])\n",
      "[[[1,2,3],[4,5,6]],[[7,8,9],[10,11,12]]]\n",
      "\n",
      "The sum of the two 3D Data Sets is: \n",
      "[[[ 2  4  6]\n",
      "  [ 8 10 12]]\n",
      "\n",
      " [[14 16 18]\n",
      "  [20 22 24]]]\n"
     ]
    }
   ],
   "source": [
    "def DsetAddition(D1,D2):\n",
    "    df1=np.array(D1)\n",
    "    df2=np.array(D2)\n",
    "    Dsum= df1+df2 \n",
    "    \n",
    "    return Dsum\n",
    "\n",
    "print('Data Set Addition')\n",
    "\n",
    "D1= eval(input('Please give a 3D Data Set (Use this format:[[[a1,a2,...,ax],[b1,b2,...,bx]],[[c1,c2,...,cx],[d1,d2,...,dx]]])\\n'))\n",
    "D2=eval(input('\\n\\nPlease give a 3D Data Set (Use this format:[[[a1,a2,...,ax],[b1,b2,...,bx]],[[c1,c2,...,cx],[d1,d2,...,dx]]])\\n'))\n",
    "\n",
    "DSsum=DsetAddition(D1,D2)\n",
    "\n",
    "print(f'\\nThe sum of the two 3D Data Sets is: \\n{DSsum}')"
   ]
  },
  {
   "cell_type": "markdown",
   "id": "c3922139",
   "metadata": {},
   "source": [
    "Give a complete ArrayDeque implementation of the double-ended queue ADT"
   ]
  },
  {
   "cell_type": "code",
   "execution_count": 38,
   "id": "b2fe3389",
   "metadata": {},
   "outputs": [
    {
     "name": "stdout",
     "output_type": "stream",
     "text": [
      "Deque: [10, 9, 8, 7, 6, 5, 4, 3, 2, 1]\n",
      "\n",
      "Size of the Deque:\n",
      "10\n",
      "\n",
      "item at the back of the deque:\n",
      "1\n",
      "\n",
      "\n",
      "After removing the first and last item:\n",
      "Deque: [9, 8, 7, 6, 5, 4, 3, 2]\n",
      "\n",
      "Size of the Deque:\n",
      "8\n"
     ]
    }
   ],
   "source": [
    "class ArrayDeque:\n",
    "    \n",
    "    DEFAULT_CAPACITY = 10 \n",
    "    \n",
    "    def __init__(self):\n",
    "        self._data = [None] * ArrayDeque.DEFAULT_CAPACITY \n",
    "        self._size = 0\n",
    "        self._front = 0\n",
    "        \n",
    "    def __len__(self):\n",
    "        return self._size\n",
    "    \n",
    "    \n",
    "    def is_empty(self):\n",
    "        return self._size == 0\n",
    "    \n",
    "    \n",
    "    def first(self):\n",
    "        if self.is_empty():\n",
    "            raise Empty(\"Queue is empty\") \n",
    "        return self._data[self._front]\n",
    "    \n",
    "    def last(self):\n",
    "        if self.is_empty():\n",
    "            raise Empty(\"Queue is empty\") \n",
    "        back=(self._front + self._size-1)% len(self._data)\n",
    "            \n",
    "        return self._data[back]\n",
    "    \n",
    "    def enqueue_front(self, e):\n",
    "        \n",
    "        if self._size==len(self._data):\n",
    "            self._resize(2*len(self._data)) \n",
    "        \n",
    "        self._front=(self._front-1) % len(self._data)\n",
    "        self._data[self._front]=e\n",
    "        self._size += 1\n",
    "        \n",
    "    def enqueue_back(self, e):\n",
    "        \n",
    "        if self._size==len(self._data):\n",
    "            self._resize(2*len(self._data)) \n",
    "        \n",
    "        avail=(self._front+self._size) % len(self._data)\n",
    "        self._data[avail]=e\n",
    "        self._size +=1\n",
    "\n",
    "    def dequeue_front(self):\n",
    "        \n",
    "        if self.is_empty():\n",
    "            raise Empty(\"Queue is empty\") \n",
    "        \n",
    "        answer=self._data[self._front]\n",
    "        self._data[self._front]= None\n",
    "        self._front= (self._front + 1) % len(self._data)\n",
    "        self._size-=1\n",
    "        \n",
    "        return answer\n",
    "    \n",
    "    def dequeue_back(self):\n",
    "        \n",
    "        if self.is_empty():\n",
    "            raise Empty(\"Queue is empty\") \n",
    "        \n",
    "        back=(self._front + self._size-1)% len(self._data)\n",
    "        answer=self._data[back]\n",
    "        self._data[back]= None\n",
    "        self._size-=1\n",
    "        \n",
    "        return answer\n",
    "    \n",
    "    def resize(self,cap):\n",
    "        old=self._data\n",
    "        self._data=[None] * cap\n",
    "        walk=self._front\n",
    "        for k in range(self._size):\n",
    "            self._data[k]=old[walk]\n",
    "            walk=(1+walk)%len(old)\n",
    "        self._front=0\n",
    "        \n",
    "    def __str__(self):\n",
    "        items = [self._data[(self._front + i) % len(self._data)] for i in range(self._size)]\n",
    "        return f'Deque: {items}'\n",
    "\n",
    "DQ=ArrayDeque()\n",
    "\n",
    "DQ.enqueue_front(1)\n",
    "DQ.enqueue_front(2)\n",
    "DQ.enqueue_front(3)\n",
    "DQ.enqueue_front(4)\n",
    "DQ.enqueue_front(5)\n",
    "DQ.enqueue_front(6)\n",
    "DQ.enqueue_front(7)\n",
    "DQ.enqueue_front(8)\n",
    "DQ.enqueue_front(9)\n",
    "DQ.enqueue_front(10)\n",
    "\n",
    "print(DQ)\n",
    "\n",
    "print('\\nSize of the Deque:')\n",
    "print(len(DQ))\n",
    "\n",
    "print('\\nitem at the back of the deque:')\n",
    "print(DQ.last())\n",
    "\n",
    "DQ.dequeue_front()\n",
    "DQ.dequeue_back()\n",
    "\n",
    "print ('\\n\\nAfter removing the first and last item:')\n",
    "print(DQ)\n",
    "\n",
    "print('\\nSize of the Deque:')\n",
    "print(len(DQ))\n",
    "\n",
    "\n"
   ]
  },
  {
   "cell_type": "code",
   "execution_count": null,
   "id": "cb2a47eb",
   "metadata": {},
   "outputs": [],
   "source": []
  }
 ],
 "metadata": {
  "kernelspec": {
   "display_name": "Python 3 (ipykernel)",
   "language": "python",
   "name": "python3"
  },
  "language_info": {
   "codemirror_mode": {
    "name": "ipython",
    "version": 3
   },
   "file_extension": ".py",
   "mimetype": "text/x-python",
   "name": "python",
   "nbconvert_exporter": "python",
   "pygments_lexer": "ipython3",
   "version": "3.11.5"
  }
 },
 "nbformat": 4,
 "nbformat_minor": 5
}
