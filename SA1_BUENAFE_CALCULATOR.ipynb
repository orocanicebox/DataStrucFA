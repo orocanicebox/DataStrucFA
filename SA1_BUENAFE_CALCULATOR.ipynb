{
 "cells": [
  {
   "cell_type": "code",
   "execution_count": null,
   "id": "e821fe4f",
   "metadata": {},
   "outputs": [
    {
     "name": "stdout",
     "output_type": "stream",
     "text": [
      "\u001b[H\u001b[2JPlease enter the following\n",
      "Please input a number:23.543\n",
      "Select an operand (+ for addition, - for subtraction, * for multiplication, / for division ):/\n",
      "Please input another number: 3.586\n",
      "23.543 / 3.586=6.565253764640268\n",
      "Do you want to reset?(y/n):y\n",
      "\u001b[H\u001b[2JPlease enter the following\n"
     ]
    }
   ],
   "source": [
    "import os\n",
    "\n",
    "def clear_console():\n",
    "    os.system('cls' if os.name == 'nt' else 'clear')\n",
    "\n",
    "def calculator():\n",
    "        \n",
    "    while True:\n",
    "        clear_console()\n",
    "        print('Please enter the following')   \n",
    "        try:\n",
    "            num1=float(input('Please input a number:'))\n",
    "            operand=input('Select an operand (+ for addition, - for subtraction, * for multiplication, / for division ):')\n",
    "            num2=float(input('Please input another number: '))\n",
    "    \n",
    "            if operand=='+':\n",
    "                result=num1+num2\n",
    "                opsum=f'{num1} {operand} {num2}={result}'\n",
    "            elif operand=='-':\n",
    "                result=num1-num2\n",
    "                opsum=f'{num1} {operand} {num2}={result}'\n",
    "            elif operand=='*':\n",
    "                result=num1*num2\n",
    "                opsum=f'{num1} {operand} {num2}={result}'\n",
    "            elif operand=='/':\n",
    "                if num2!=0:\n",
    "                    result=num1/num2\n",
    "                    opsum=f'{num1} {operand} {num2}={result}'\n",
    "                else:\n",
    "                    print('undefined')\n",
    "            \n",
    "        \n",
    "                 \n",
    "        except ValueError:\n",
    "            print ('Enter valid numbers')\n",
    "        \n",
    "        print(opsum)\n",
    "        reset=input('Do you want to reset?(y/n):')\n",
    "        if reset.lower() != 'y':\n",
    "            break\n",
    "       \n",
    "                  \n",
    "calculator()"
   ]
  },
  {
   "cell_type": "code",
   "execution_count": null,
   "id": "a16c013c",
   "metadata": {},
   "outputs": [],
   "source": []
  },
  {
   "cell_type": "code",
   "execution_count": null,
   "id": "97abf87c",
   "metadata": {},
   "outputs": [],
   "source": []
  }
 ],
 "metadata": {
  "kernelspec": {
   "display_name": "Python 3 (ipykernel)",
   "language": "python",
   "name": "python3"
  },
  "language_info": {
   "codemirror_mode": {
    "name": "ipython",
    "version": 3
   },
   "file_extension": ".py",
   "mimetype": "text/x-python",
   "name": "python",
   "nbconvert_exporter": "python",
   "pygments_lexer": "ipython3",
   "version": "3.11.5"
  }
 },
 "nbformat": 4,
 "nbformat_minor": 5
}
