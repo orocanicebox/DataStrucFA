{
 "cells": [
  {
   "cell_type": "markdown",
   "id": "7c529664",
   "metadata": {},
   "source": [
    "# FA6_KARL ISAIAH BUENAFE"
   ]
  },
  {
   "cell_type": "markdown",
   "id": "a9e3b112",
   "metadata": {},
   "source": [
    "Give a complete implementation of the stack ADT using a singly linked list that includes a header sentinel."
   ]
  },
  {
   "cell_type": "code",
   "execution_count": 87,
   "id": "d8cf7860",
   "metadata": {},
   "outputs": [
    {
     "name": "stdout",
     "output_type": "stream",
     "text": [
      "False\n",
      "6\n",
      "6 -> 5 -> 4 -> 3 -> 2 -> 1\n",
      "None\n",
      "\n",
      "6\n",
      "5\n",
      "4 -> 3 -> 2 -> 1\n",
      "None\n"
     ]
    }
   ],
   "source": [
    "class Node:\n",
    "    \n",
    "    def __init__(self,data):\n",
    "        self.data=data\n",
    "        self._next= None\n",
    "\n",
    "class LinkedStack:\n",
    "    \n",
    "    \n",
    "    def __init__(self):\n",
    "        self.head = Node(None)  \n",
    "        self._size=0\n",
    "        \n",
    "    def _size(self):\n",
    "        return len(self)\n",
    "    \n",
    "    def is_empty(self):\n",
    "        return self._size==0\n",
    "    \n",
    "    def pop(self):\n",
    "        \n",
    "        if self.is_empty():\n",
    "            print('Error! The stack is empty')\n",
    "            return None\n",
    "        \n",
    "        else:\n",
    "            top_node= self.head._next\n",
    "            self.head._next=top_node._next\n",
    "            self._size-=1\n",
    "            return top_node.data\n",
    "                    \n",
    "                    \n",
    "    def push(self, data):\n",
    "        new_node = Node(data)\n",
    "        new_node._next = self.head._next\n",
    "        self.head._next=new_node\n",
    "        self._size+=1\n",
    "        \n",
    "        \n",
    "    def top(self):\n",
    "        if self.is_empty():\n",
    "            None\n",
    "        else:\n",
    "            top_node= self.head._next\n",
    "            return top_node.data\n",
    "\n",
    "    \n",
    "    def display(self):\n",
    "        top_node= self.head._next\n",
    "        current = top_node\n",
    "        if current is None:\n",
    "            print(\"The stack is empty.\")\n",
    "        else:\n",
    "            while current:\n",
    "                print(current.data, end=\" -> \" if current._next else \"\")\n",
    "                current = current._next\n",
    "            print()\n",
    "        \n",
    "ls=LinkedStack()\n",
    "\n",
    "ls.push(1)\n",
    "ls.push(2)\n",
    "ls.push(3)\n",
    "ls.push(4)\n",
    "ls.push(5)\n",
    "ls.push(6)\n",
    "\n",
    "\n",
    "print(ls.is_empty())\n",
    "print(ls.top())\n",
    "print(ls.display(), end=\"\\n\\n\")\n",
    "\n",
    "\n",
    "print(ls.pop())\n",
    "print(ls.pop())\n",
    "print(ls.display())\n"
   ]
  },
  {
   "cell_type": "markdown",
   "id": "697fdfd5",
   "metadata": {},
   "source": [
    "Write a simple text editor that stores and displays a string of characters using the positional list ADT, together with a cursor object that highlights a position in this string. A simple interface is to print the string and then to use a second line of output to underline the position of the cursor. Your editor should support the following operations:"
   ]
  },
  {
   "cell_type": "markdown",
   "id": "a71a4052",
   "metadata": {},
   "source": [
    "• left: Move cursor left one character (do nothing if at beginning).\n"
   ]
  },
  {
   "cell_type": "markdown",
   "id": "c2ca97a4",
   "metadata": {},
   "source": [
    "• right: Move cursor right one character (do nothing if at end).\n"
   ]
  },
  {
   "cell_type": "markdown",
   "id": "e4bc92e6",
   "metadata": {},
   "source": [
    "• insert c: Insert the character c just after the cursor.\n"
   ]
  },
  {
   "cell_type": "markdown",
   "id": "4803a81e",
   "metadata": {},
   "source": [
    "• delete: Delete the character just after the cursor (do nothing at end)."
   ]
  },
  {
   "cell_type": "code",
   "execution_count": null,
   "id": "0db1ca9b",
   "metadata": {},
   "outputs": [
    {
     "name": "stdout",
     "output_type": "stream",
     "text": [
      "\n",
      "^\n",
      "Please enter a command (insert <letter>, right, left, insert, delete, display)insert a\n",
      "a\n",
      "^\n",
      "Please enter a command (insert <letter>, right, left, insert, delete, display)delete\n",
      "\n",
      "^\n",
      "Please enter a command (insert <letter>, right, left, insert, delete, display)insert abc\n",
      "abc\n",
      " ^\n",
      "Please enter a command (insert <letter>, right, left, insert, delete, display)left\n",
      "Cursor position:0\n",
      "abc\n",
      "^\n",
      "Please enter a command (insert <letter>, right, left, insert, delete, display)right\n",
      "Cursor position:1\n",
      "abc\n",
      " ^\n",
      "Please enter a command (insert <letter>, right, left, insert, delete, display)right\n",
      "abc\n",
      " ^\n"
     ]
    }
   ],
   "source": [
    "class TextEditor:\n",
    "    \n",
    "    \n",
    "    def __init__(self):\n",
    "        self.text=[]\n",
    "        self.cursor=-1\n",
    "        \n",
    "    def left(self):\n",
    "        \n",
    "        if self.cursor>0:\n",
    "            self.cursor-=1\n",
    "            print(f'Cursor position:{self.cursor}')\n",
    "        else: \n",
    "            return None\n",
    "    \n",
    "    def right(self):\n",
    "        \n",
    "        if self.cursor<len(self.text):\n",
    "            self.cursor+=1\n",
    "            print(f'Cursor position:{self.cursor}')\n",
    "        else: \n",
    "            return None\n",
    "    \n",
    "    def insert(self,char):\n",
    "        \n",
    "        self.text.insert(self.cursor,char)\n",
    "        self.cursor+=1\n",
    "                      \n",
    "    \n",
    "    def delete(self):\n",
    "        if self.cursor<len(self.text):\n",
    "            self.text.pop(self.cursor)\n",
    "        else:\n",
    "            return None\n",
    "    \n",
    "    def display(self):\n",
    "        print(\"\".join(self.text))\n",
    "        print(\" \" * self.cursor + \"^\")\n",
    "    \n",
    "    \n",
    "editor=TextEditor()\n",
    "\n",
    "while True:\n",
    "    editor.display()\n",
    "    command=input('Please enter a command (insert <letter>, right, left, insert, delete, display)')\n",
    "    \n",
    "    if command.startswith(\"insert \"):\n",
    "        _, char=command.split(maxsplit=1)\n",
    "        editor.insert(char)\n",
    "            \n",
    "    elif command==\"left\":\n",
    "        editor.left()\n",
    "            \n",
    "    elif command==\"right\":\n",
    "        editor.right()\n",
    "            \n",
    "    elif command==\"delete\":\n",
    "        editor.delete()\n",
    "            \n",
    "    elif command==\"exit\":\n",
    "        break\n",
    "    \n",
    "    else:\n",
    "        print(\"Invalid command. Try again.\")\n",
    "            "
   ]
  },
  {
   "cell_type": "code",
   "execution_count": null,
   "id": "a1f29cf9",
   "metadata": {},
   "outputs": [],
   "source": []
  },
  {
   "cell_type": "code",
   "execution_count": null,
   "id": "24266e81",
   "metadata": {},
   "outputs": [],
   "source": [
    " "
   ]
  }
 ],
 "metadata": {
  "kernelspec": {
   "display_name": "Python 3 (ipykernel)",
   "language": "python",
   "name": "python3"
  },
  "language_info": {
   "codemirror_mode": {
    "name": "ipython",
    "version": 3
   },
   "file_extension": ".py",
   "mimetype": "text/x-python",
   "name": "python",
   "nbconvert_exporter": "python",
   "pygments_lexer": "ipython3",
   "version": "3.11.5"
  }
 },
 "nbformat": 4,
 "nbformat_minor": 5
}
