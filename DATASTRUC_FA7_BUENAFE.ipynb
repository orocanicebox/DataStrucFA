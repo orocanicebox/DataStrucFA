{
 "cells": [
  {
   "cell_type": "markdown",
   "id": "7c529664",
   "metadata": {},
   "source": [
    "# FA7_KARL ISAIAH BUENAFE"
   ]
  },
  {
   "cell_type": "markdown",
   "id": "a9e3b112",
   "metadata": {},
   "source": [
    "Give a complete implementation of the stack ADT using a singly linked list that includes a header sentinel."
   ]
  },
  {
   "cell_type": "code",
   "execution_count": 6,
   "id": "b5adcf2b",
   "metadata": {},
   "outputs": [],
   "source": [
    "import time\n",
    "import random\n",
    "import heapq"
   ]
  },
  {
   "cell_type": "markdown",
   "id": "1de2f782",
   "metadata": {},
   "source": [
    "HEAP SORT IN PLACE"
   ]
  },
  {
   "cell_type": "code",
   "execution_count": 7,
   "id": "d8cf7860",
   "metadata": {},
   "outputs": [],
   "source": [
    "def heapify(arr, n, i): # n is the root, i is the item inside the array arr \n",
    "    largest=i\n",
    "    left= 2 * i + 1\n",
    "    right= 2 * i + 2\n",
    "    \n",
    "    if left < n and arr[left] > arr[largest]:\n",
    "        largest = left # swap the values of the largest\n",
    "    \n",
    "    if right < n and arr[right] > arr[largest]:\n",
    "        largest = right # swap the values of the largest\n",
    "        \n",
    "    if largest != i:\n",
    "        arr[largest], arr[i] = arr[i], arr[largest]\n",
    "        \n",
    "        heapify(arr, n, largest)\n",
    "\n",
    "def heap_sort_in_place(arr):\n",
    "    n = len(arr)\n",
    "\n",
    "    for i in range(n // 2 - 1, -1, -1):\n",
    "        heapify(arr, n, i)\n",
    "\n",
    "    # Extract elements one by one\n",
    "    for i in range(n - 1, 0, -1):\n",
    "        arr[i], arr[0] = arr[0], arr[i]  # Swap\n",
    "        heapify(arr, i, 0)\n"
   ]
  },
  {
   "cell_type": "markdown",
   "id": "bb260dbf",
   "metadata": {},
   "source": [
    "STANDARD HEAP SORT"
   ]
  },
  {
   "cell_type": "code",
   "execution_count": 8,
   "id": "0db1ca9b",
   "metadata": {},
   "outputs": [],
   "source": [
    "def heap_standard(arr):\n",
    "    heap = []\n",
    "    for element in arr:\n",
    "        heapq.heappush(heap, element)\n",
    "\n",
    "    sorted_list = [heapq.heappop(heap) for _ in range(len(heap))]\n",
    "    return sorted_list"
   ]
  },
  {
   "cell_type": "markdown",
   "id": "dec590a2",
   "metadata": {},
   "source": [
    "IN PLACE VS. STANDARD "
   ]
  },
  {
   "cell_type": "code",
   "execution_count": 47,
   "id": "24266e81",
   "metadata": {},
   "outputs": [
    {
     "name": "stdout",
     "output_type": "stream",
     "text": [
      "Size      In place sort time  Standard sort time  \n",
      "5         0.000008            0.000009            \n",
      "20        0.000022            0.000007            \n",
      "50        0.000066            0.000014            \n",
      "100       0.000156            0.000027            \n",
      "5000      0.018871            0.001887            \n",
      "10000     0.025084            0.003047            \n"
     ]
    }
   ],
   "source": [
    " def heap_comparison():\n",
    "        \n",
    "        sizes=[5, 20, 50, 100, 5000, 10000]\n",
    "        results=[]\n",
    "        \n",
    "        for size in sizes:\n",
    "            arr = [random.randint(0,10000) for _ in range(size)]\n",
    "            \n",
    "            arr1 = arr[:]\n",
    "            start1 = time.time()\n",
    "            heap_sort_in_place(arr1)\n",
    "            sort_time1 = time.time() - start1\n",
    "            \n",
    "            arr2 = arr[:]\n",
    "            start = time.time()\n",
    "            sorted_arr = heap_standard(arr2)\n",
    "            sort_time2 = time.time() - start\n",
    "            \n",
    "            results.append((size, sort_time1, sort_time2))\n",
    "            \n",
    "\n",
    "        print(f\"{'Size':<10}{'In place sort time':<20}{'Standard sort time':<20}\")\n",
    "        for size, sort_time1, sort_time2 in results:\n",
    "            print(f'{size:<10}{sort_time1:<20.6f}{sort_time2:<20.6f}')\n",
    "        \n",
    "heap_comparison()\n",
    "        \n",
    "        "
   ]
  },
  {
   "cell_type": "markdown",
   "id": "38c13ce6",
   "metadata": {},
   "source": [
    " Based on this we can easily notice how the in-place heap sorting is faster than the standard heap sorting. However, as the size of the arrays gets bigger, we can see how the standard heap sort is much faster "
   ]
  },
  {
   "cell_type": "code",
   "execution_count": null,
   "id": "4b0457cb",
   "metadata": {},
   "outputs": [],
   "source": []
  }
 ],
 "metadata": {
  "kernelspec": {
   "display_name": "Python 3 (ipykernel)",
   "language": "python",
   "name": "python3"
  },
  "language_info": {
   "codemirror_mode": {
    "name": "ipython",
    "version": 3
   },
   "file_extension": ".py",
   "mimetype": "text/x-python",
   "name": "python",
   "nbconvert_exporter": "python",
   "pygments_lexer": "ipython3",
   "version": "3.11.5"
  }
 },
 "nbformat": 4,
 "nbformat_minor": 5
}
