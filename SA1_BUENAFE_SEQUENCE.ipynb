{
 "cells": [
  {
   "cell_type": "code",
   "execution_count": 5,
   "id": "2457b8db",
   "metadata": {},
   "outputs": [],
   "source": [
    "import random\n",
    "import time"
   ]
  },
  {
   "cell_type": "code",
   "execution_count": 18,
   "id": "8ac483e2",
   "metadata": {},
   "outputs": [
    {
     "name": "stdout",
     "output_type": "stream",
     "text": [
      "Select the size of the sequence: 20\n",
      "Generated array: [88, 7, 45, 58, 5, 59, 17, 33, 10, 6, 62, 78, 8, 65, 79, 14, 60, 71, 80, 54]\n",
      "Selected target: 10\n",
      "Pair not found\n",
      "Pair not found. Elapsed time: 0.000056 seconds\n"
     ]
    }
   ],
   "source": [
    "def two_sum(arr, target):\n",
    "    seen= set()\n",
    "    for number in arr:\n",
    "        complement=target-number\n",
    "        if complement in seen:\n",
    "            return(complement, number)  # Return the pair found\n",
    "        seen.add(number)\n",
    "    \n",
    "    print('Pair not found')\n",
    "    return None\n",
    "\n",
    "\n",
    "array_size=int(input(\"Select the size of the sequence: \"))\n",
    "arr=random.sample(range(1, 100), array_size)\n",
    "print(f'Generated array: {arr}')\n",
    "\n",
    "target=random.choice(arr)\n",
    "print(f'Selected target: {target}')\n",
    "\n",
    "start=time.time()\n",
    "result=two_sum(arr, target)\n",
    "end=time.time()\n",
    "\n",
    "if result:\n",
    "    print(f'Pair found: {result}, elapsed time: {end-start:.6f} seconds')\n",
    "else:\n",
    "    print(f'Pair not found. Elapsed time: {end-start:.6f} seconds')\n"
   ]
  }
 ],
 "metadata": {
  "kernelspec": {
   "display_name": "Python 3 (ipykernel)",
   "language": "python",
   "name": "python3"
  },
  "language_info": {
   "codemirror_mode": {
    "name": "ipython",
    "version": 3
   },
   "file_extension": ".py",
   "mimetype": "text/x-python",
   "name": "python",
   "nbconvert_exporter": "python",
   "pygments_lexer": "ipython3",
   "version": "3.11.5"
  }
 },
 "nbformat": 4,
 "nbformat_minor": 5
}
