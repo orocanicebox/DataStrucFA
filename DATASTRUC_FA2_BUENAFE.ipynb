{
 "cells": [
  {
   "cell_type": "markdown",
   "id": "e44f1a63",
   "metadata": {},
   "source": [
    "<h1>FA2_BUENAFE</h1>"
   ]
  },
  {
   "cell_type": "markdown",
   "id": "cf27c09a",
   "metadata": {},
   "source": [
    " "
   ]
  },
  {
   "cell_type": "markdown",
   "id": "b09b6adc",
   "metadata": {},
   "source": [
    "### Write a Python program that inputs a polynomial in standard algebraic notation and outputs the first derivative of that polynomial."
   ]
  },
  {
   "cell_type": "code",
   "execution_count": 68,
   "id": "d215d611",
   "metadata": {},
   "outputs": [
    {
     "name": "stdout",
     "output_type": "stream",
     "text": [
      "Enter a polynomial (e.g., 3*x**2 + 2*x + 1,...):3*x**2-2*x+4\n",
      "The derivative of the polynomial 3*x**2-2*x+4 is : 6*x - 2\n"
     ]
    }
   ],
   "source": [
    "import sympy as sp\n",
    "\n",
    "def differentiate(poly_str):\n",
    "    x=sp.symbols('x')\n",
    "    polynomial=sp.sympify(poly_str)\n",
    "    derivative=sp.diff(polynomial,x)\n",
    "    return derivative\n",
    "\n",
    "poly_str=input(\"Enter a polynomial (e.g., 3*x**2 + 2*x + 1,...):\")\n",
    "\n",
    "print(f\"The derivative of the polynomial {poly_str} is : {differentiate(poly_str)}\")"
   ]
  },
  {
   "cell_type": "markdown",
   "id": "16fe4d83",
   "metadata": {},
   "source": [
    "### Develop an inheritance hierarchy based upon a Polygon class that has abstract methods area( ) \n",
    "### and perimeter( ). "
   ]
  },
  {
   "cell_type": "code",
   "execution_count": 2,
   "id": "66e58a70",
   "metadata": {},
   "outputs": [],
   "source": [
    "\n",
    "import math"
   ]
  },
  {
   "cell_type": "code",
   "execution_count": 66,
   "id": "b2c50f15",
   "metadata": {},
   "outputs": [
    {
     "name": "stdout",
     "output_type": "stream",
     "text": [
      "Side of the polygon: 3\n",
      "Enter the vertices (x, y coordinates):\n",
      "Vertex 1 - x: 0\n",
      "Vertex 1 - y: 1\n",
      "\n",
      "The vertices of the polygon are:\n",
      "Vertex 1: (0, 1)\n",
      "\n",
      "The perimeter of the polygon is: 0.0\n"
     ]
    },
    {
     "ename": "KeyboardInterrupt",
     "evalue": "Interrupted by user",
     "output_type": "error",
     "traceback": [
      "\u001b[0;31m---------------------------------------------------------------------------\u001b[0m",
      "\u001b[0;31mKeyboardInterrupt\u001b[0m                         Traceback (most recent call last)",
      "Cell \u001b[0;32mIn[66], line 52\u001b[0m\n\u001b[1;32m     49\u001b[0m \u001b[38;5;28mprint\u001b[39m(\u001b[38;5;124m\"\u001b[39m\u001b[38;5;124mEnter the vertices (x, y coordinates):\u001b[39m\u001b[38;5;124m\"\u001b[39m)\n\u001b[1;32m     51\u001b[0m \u001b[38;5;28;01mfor\u001b[39;00m t \u001b[38;5;129;01min\u001b[39;00m \u001b[38;5;28mrange\u001b[39m(n):\n\u001b[0;32m---> 52\u001b[0m     x \u001b[38;5;241m=\u001b[39m \u001b[38;5;28mint\u001b[39m(\u001b[38;5;28minput\u001b[39m(\u001b[38;5;124mf\u001b[39m\u001b[38;5;124m\"\u001b[39m\u001b[38;5;124mVertex \u001b[39m\u001b[38;5;132;01m{\u001b[39;00mt\u001b[38;5;241m+\u001b[39m\u001b[38;5;241m1\u001b[39m\u001b[38;5;132;01m}\u001b[39;00m\u001b[38;5;124m - x: \u001b[39m\u001b[38;5;124m\"\u001b[39m))  \n\u001b[1;32m     53\u001b[0m     y \u001b[38;5;241m=\u001b[39m \u001b[38;5;28mint\u001b[39m(\u001b[38;5;28minput\u001b[39m(\u001b[38;5;124mf\u001b[39m\u001b[38;5;124m\"\u001b[39m\u001b[38;5;124mVertex \u001b[39m\u001b[38;5;132;01m{\u001b[39;00mt\u001b[38;5;241m+\u001b[39m\u001b[38;5;241m1\u001b[39m\u001b[38;5;132;01m}\u001b[39;00m\u001b[38;5;124m - y: \u001b[39m\u001b[38;5;124m\"\u001b[39m)) \n\u001b[1;32m     54\u001b[0m     V\u001b[38;5;241m.\u001b[39mappend((x, y))  \u001b[38;5;66;03m# Append each vertex as a tuple (x, y)\u001b[39;00m\n",
      "File \u001b[0;32m~/anaconda3/lib/python3.11/site-packages/ipykernel/kernelbase.py:1202\u001b[0m, in \u001b[0;36mKernel.raw_input\u001b[0;34m(self, prompt)\u001b[0m\n\u001b[1;32m   1200\u001b[0m     msg \u001b[38;5;241m=\u001b[39m \u001b[38;5;124m\"\u001b[39m\u001b[38;5;124mraw_input was called, but this frontend does not support input requests.\u001b[39m\u001b[38;5;124m\"\u001b[39m\n\u001b[1;32m   1201\u001b[0m     \u001b[38;5;28;01mraise\u001b[39;00m StdinNotImplementedError(msg)\n\u001b[0;32m-> 1202\u001b[0m \u001b[38;5;28;01mreturn\u001b[39;00m \u001b[38;5;28mself\u001b[39m\u001b[38;5;241m.\u001b[39m_input_request(\n\u001b[1;32m   1203\u001b[0m     \u001b[38;5;28mstr\u001b[39m(prompt),\n\u001b[1;32m   1204\u001b[0m     \u001b[38;5;28mself\u001b[39m\u001b[38;5;241m.\u001b[39m_parent_ident[\u001b[38;5;124m\"\u001b[39m\u001b[38;5;124mshell\u001b[39m\u001b[38;5;124m\"\u001b[39m],\n\u001b[1;32m   1205\u001b[0m     \u001b[38;5;28mself\u001b[39m\u001b[38;5;241m.\u001b[39mget_parent(\u001b[38;5;124m\"\u001b[39m\u001b[38;5;124mshell\u001b[39m\u001b[38;5;124m\"\u001b[39m),\n\u001b[1;32m   1206\u001b[0m     password\u001b[38;5;241m=\u001b[39m\u001b[38;5;28;01mFalse\u001b[39;00m,\n\u001b[1;32m   1207\u001b[0m )\n",
      "File \u001b[0;32m~/anaconda3/lib/python3.11/site-packages/ipykernel/kernelbase.py:1245\u001b[0m, in \u001b[0;36mKernel._input_request\u001b[0;34m(self, prompt, ident, parent, password)\u001b[0m\n\u001b[1;32m   1242\u001b[0m \u001b[38;5;28;01mexcept\u001b[39;00m \u001b[38;5;167;01mKeyboardInterrupt\u001b[39;00m:\n\u001b[1;32m   1243\u001b[0m     \u001b[38;5;66;03m# re-raise KeyboardInterrupt, to truncate traceback\u001b[39;00m\n\u001b[1;32m   1244\u001b[0m     msg \u001b[38;5;241m=\u001b[39m \u001b[38;5;124m\"\u001b[39m\u001b[38;5;124mInterrupted by user\u001b[39m\u001b[38;5;124m\"\u001b[39m\n\u001b[0;32m-> 1245\u001b[0m     \u001b[38;5;28;01mraise\u001b[39;00m \u001b[38;5;167;01mKeyboardInterrupt\u001b[39;00m(msg) \u001b[38;5;28;01mfrom\u001b[39;00m \u001b[38;5;28;01mNone\u001b[39;00m\n\u001b[1;32m   1246\u001b[0m \u001b[38;5;28;01mexcept\u001b[39;00m \u001b[38;5;167;01mException\u001b[39;00m:\n\u001b[1;32m   1247\u001b[0m     \u001b[38;5;28mself\u001b[39m\u001b[38;5;241m.\u001b[39mlog\u001b[38;5;241m.\u001b[39mwarning(\u001b[38;5;124m\"\u001b[39m\u001b[38;5;124mInvalid Message:\u001b[39m\u001b[38;5;124m\"\u001b[39m, exc_info\u001b[38;5;241m=\u001b[39m\u001b[38;5;28;01mTrue\u001b[39;00m)\n",
      "\u001b[0;31mKeyboardInterrupt\u001b[0m: Interrupted by user"
     ]
    }
   ],
   "source": [
    "import math\n",
    "\n",
    "class Polygon:\n",
    "    def Perimeter(self, V):\n",
    "        perimeter = 0\n",
    "        for i in range(len(V)):\n",
    "           \n",
    "            x1, y1 = V[i]\n",
    "            x2, y2 = V[(i + 1) % len(V)] \n",
    "           \n",
    "            length = math.sqrt((x2 - x1) ** 2 + (y2 - y1) ** 2)\n",
    "            perimeter += length\n",
    "            \n",
    "        if len(V) == 3:\n",
    "            print(\"The polygon is a triangle\")\n",
    "        elif len(V) == 4:\n",
    "            print(\"The polygon is a quadrilateral\")\n",
    "\n",
    "        return perimeter\n",
    "            \n",
    "    ##def Area(self, V):\n",
    "    ##    area = 0\n",
    "      ##  for i in range(len(V)):\n",
    "        ##    x1, y1 = V[i]\n",
    "          ##  x2, y2 = V[(i + 1) % len(V)] \n",
    "            \n",
    "            ##if n==3:\n",
    "              ##  area = \n",
    "                ##area += length\n",
    "                \n",
    "            ##elif n==4:\n",
    "                \n",
    "\n",
    "        # Check if the polygon is a triangle\n",
    "    \n",
    "\n",
    "\n",
    "# Main code to input vertices and compute the perimeter\n",
    "n = int(input(\"Side of the polygon: \"))\n",
    "\n",
    "if n < 3:\n",
    "    print(\"Invalid polygon! A polygon must have at least 3 sides.\")\n",
    "else:\n",
    "    V = []\n",
    "\n",
    "x_coords = [point[0] for point in V]  # Extract x coordinates\n",
    "y_coords = [point[1] for point in V]     \n",
    "    \n",
    "print(\"Enter the vertices (x, y coordinates):\")\n",
    "    \n",
    "for t in range(n):\n",
    "    x = int(input(f\"Vertex {t+1} - x: \"))  \n",
    "    y = int(input(f\"Vertex {t+1} - y: \")) \n",
    "    V.append((x, y))  # Append each vertex as a tuple (x, y)\n",
    "\n",
    "    print(\"\\nThe vertices of the polygon are:\")\n",
    "    for i, vertex in enumerate(V):\n",
    "        print(f\"Vertex {i+1}: {vertex}\")\n",
    "\n",
    "    # Create a Polygon object\n",
    "    polygon = Polygon()\n",
    "\n",
    "    # Compute and print the perimeter\n",
    "    poly_perimeter = polygon.Perimeter(V)  # Pass the vertices to the Perimeter method\n",
    "    print(f\"\\nThe perimeter of the polygon is: {poly_perimeter}\")\n"
   ]
  },
  {
   "cell_type": "code",
   "execution_count": 65,
   "id": "f6cd6f2d",
   "metadata": {},
   "outputs": [
    {
     "name": "stdout",
     "output_type": "stream",
     "text": [
      "[1, 1, 7, 7]\n"
     ]
    }
   ],
   "source": [
    "print(y_coords)"
   ]
  },
  {
   "cell_type": "code",
   "execution_count": null,
   "id": "8983e30d",
   "metadata": {},
   "outputs": [],
   "source": []
  }
 ],
 "metadata": {
  "kernelspec": {
   "display_name": "Python 3 (ipykernel)",
   "language": "python",
   "name": "python3"
  },
  "language_info": {
   "codemirror_mode": {
    "name": "ipython",
    "version": 3
   },
   "file_extension": ".py",
   "mimetype": "text/x-python",
   "name": "python",
   "nbconvert_exporter": "python",
   "pygments_lexer": "ipython3",
   "version": "3.11.5"
  }
 },
 "nbformat": 4,
 "nbformat_minor": 5
}
